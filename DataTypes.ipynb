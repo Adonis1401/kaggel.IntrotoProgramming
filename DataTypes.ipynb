{
 "cells": [
  {
   "cell_type": "code",
   "execution_count": 4,
   "metadata": {
    "colab": {
     "base_uri": "https://localhost:8080/"
    },
    "executionInfo": {
     "elapsed": 8,
     "status": "ok",
     "timestamp": 1692037155992,
     "user": {
      "displayName": "adonis hakemi",
      "userId": "11442548233691533531"
     },
     "user_tz": -210
    },
    "id": "DsUjGoZwM99H",
    "outputId": "21fc087a-592b-4863-a464-61ba030bd54c"
   },
   "outputs": [
    {
     "name": "stdout",
     "output_type": "stream",
     "text": [
      "14\n",
      "<class 'int'>\n"
     ]
    }
   ],
   "source": [
    "x = 14\n",
    "print(x)\n",
    "print(type(x))\n"
   ]
  },
  {
   "cell_type": "code",
   "execution_count": 5,
   "metadata": {
    "colab": {
     "base_uri": "https://localhost:8080/"
    },
    "executionInfo": {
     "elapsed": 7,
     "status": "ok",
     "timestamp": 1692037158680,
     "user": {
      "displayName": "adonis hakemi",
      "userId": "11442548233691533531"
     },
     "user_tz": -210
    },
    "id": "2yzSubILN1K2",
    "outputId": "67ec42ae-5c6f-438e-9872-e6a124eb4f04"
   },
   "outputs": [
    {
     "name": "stdout",
     "output_type": "stream",
     "text": [
      "3.141592653589793\n",
      "<class 'float'>\n"
     ]
    }
   ],
   "source": [
    "nearly_pi = 3.141592653589793238462643383279502884197169399375105820974944\n",
    "print(nearly_pi)\n",
    "print(type(nearly_pi))"
   ]
  },
  {
   "cell_type": "code",
   "execution_count": 6,
   "metadata": {
    "colab": {
     "base_uri": "https://localhost:8080/"
    },
    "executionInfo": {
     "elapsed": 504,
     "status": "ok",
     "timestamp": 1692037162027,
     "user": {
      "displayName": "adonis hakemi",
      "userId": "11442548233691533531"
     },
     "user_tz": -210
    },
    "id": "n52metG5N1w1",
    "outputId": "b5eed099-c357-4656-8921-dd9836323526"
   },
   "outputs": [
    {
     "name": "stdout",
     "output_type": "stream",
     "text": [
      "3.142857142857143\n",
      "<class 'float'>\n"
     ]
    }
   ],
   "source": [
    "almost_pi = 22/7\n",
    "print(almost_pi)\n",
    "print(type(almost_pi))"
   ]
  },
  {
   "cell_type": "code",
   "execution_count": 7,
   "metadata": {
    "colab": {
     "base_uri": "https://localhost:8080/"
    },
    "executionInfo": {
     "elapsed": 6,
     "status": "ok",
     "timestamp": 1692037164672,
     "user": {
      "displayName": "adonis hakemi",
      "userId": "11442548233691533531"
     },
     "user_tz": -210
    },
    "id": "I9h2pQ68N5NP",
    "outputId": "fec57a51-3e20-4a00-bb84-e6f1e3c9fe11"
   },
   "outputs": [
    {
     "name": "stdout",
     "output_type": "stream",
     "text": [
      "3.14286\n",
      "<class 'float'>\n"
     ]
    }
   ],
   "source": [
    "# Round to 5 decimal places\n",
    "rounded_pi = round(almost_pi, 5)\n",
    "print(rounded_pi)\n",
    "print(type(rounded_pi))"
   ]
  },
  {
   "cell_type": "code",
   "execution_count": 8,
   "metadata": {
    "colab": {
     "base_uri": "https://localhost:8080/"
    },
    "executionInfo": {
     "elapsed": 6,
     "status": "ok",
     "timestamp": 1692037168665,
     "user": {
      "displayName": "adonis hakemi",
      "userId": "11442548233691533531"
     },
     "user_tz": -210
    },
    "id": "N2yT1zeqN7yN",
    "outputId": "2d0e5338-9720-43d5-ddf0-4777708481ff"
   },
   "outputs": [
    {
     "name": "stdout",
     "output_type": "stream",
     "text": [
      "1.0\n",
      "<class 'float'>\n"
     ]
    }
   ],
   "source": [
    "y_float = 1.\n",
    "print(y_float)\n",
    "print(type(y_float))"
   ]
  },
  {
   "cell_type": "code",
   "execution_count": 9,
   "metadata": {
    "colab": {
     "base_uri": "https://localhost:8080/"
    },
    "executionInfo": {
     "elapsed": 539,
     "status": "ok",
     "timestamp": 1692037171445,
     "user": {
      "displayName": "adonis hakemi",
      "userId": "11442548233691533531"
     },
     "user_tz": -210
    },
    "id": "cFMXPAPHN_K9",
    "outputId": "0957f685-c3ce-445c-9cb7-80378c54bd8e"
   },
   "outputs": [
    {
     "name": "stdout",
     "output_type": "stream",
     "text": [
      "True\n",
      "<class 'bool'>\n"
     ]
    }
   ],
   "source": [
    "z_one = True\n",
    "print(z_one)\n",
    "print(type(z_one))"
   ]
  },
  {
   "cell_type": "code",
   "execution_count": 10,
   "metadata": {
    "colab": {
     "base_uri": "https://localhost:8080/"
    },
    "executionInfo": {
     "elapsed": 7,
     "status": "ok",
     "timestamp": 1692037174976,
     "user": {
      "displayName": "adonis hakemi",
      "userId": "11442548233691533531"
     },
     "user_tz": -210
    },
    "id": "ST9JtOW5OH6O",
    "outputId": "adce20f9-d16e-430d-dec3-2681c954e0fc"
   },
   "outputs": [
    {
     "name": "stdout",
     "output_type": "stream",
     "text": [
      "False\n",
      "<class 'bool'>\n"
     ]
    }
   ],
   "source": [
    "z_two = False\n",
    "print(z_two)\n",
    "print(type(z_two))\n"
   ]
  },
  {
   "cell_type": "code",
   "execution_count": 11,
   "metadata": {
    "colab": {
     "base_uri": "https://localhost:8080/"
    },
    "executionInfo": {
     "elapsed": 513,
     "status": "ok",
     "timestamp": 1692037177865,
     "user": {
      "displayName": "adonis hakemi",
      "userId": "11442548233691533531"
     },
     "user_tz": -210
    },
    "id": "cMvr-jOBOLH9",
    "outputId": "6933b094-ee52-4579-97cd-ef9168c49b0c"
   },
   "outputs": [
    {
     "name": "stdout",
     "output_type": "stream",
     "text": [
      "True\n",
      "<class 'bool'>\n"
     ]
    }
   ],
   "source": [
    "z_three = (1 < 2)\n",
    "print(z_three)\n",
    "print(type(z_three))"
   ]
  },
  {
   "cell_type": "code",
   "execution_count": 12,
   "metadata": {
    "colab": {
     "base_uri": "https://localhost:8080/"
    },
    "executionInfo": {
     "elapsed": 528,
     "status": "ok",
     "timestamp": 1692037181661,
     "user": {
      "displayName": "adonis hakemi",
      "userId": "11442548233691533531"
     },
     "user_tz": -210
    },
    "id": "EzQtRAKJOLxO",
    "outputId": "8bed7647-6937-4042-e620-86c8a1732bff"
   },
   "outputs": [
    {
     "name": "stdout",
     "output_type": "stream",
     "text": [
      "False\n",
      "<class 'bool'>\n"
     ]
    }
   ],
   "source": [
    "z_four = (5 < 3)\n",
    "print(z_four)\n",
    "print(type(z_four))"
   ]
  },
  {
   "cell_type": "code",
   "execution_count": 13,
   "metadata": {
    "colab": {
     "base_uri": "https://localhost:8080/"
    },
    "executionInfo": {
     "elapsed": 7,
     "status": "ok",
     "timestamp": 1692037185311,
     "user": {
      "displayName": "adonis hakemi",
      "userId": "11442548233691533531"
     },
     "user_tz": -210
    },
    "id": "-sWaUfxrOOS1",
    "outputId": "0c37a6e1-50c7-48b6-bf63-d171776c895a"
   },
   "outputs": [
    {
     "name": "stdout",
     "output_type": "stream",
     "text": [
      "True\n",
      "<class 'bool'>\n"
     ]
    }
   ],
   "source": [
    "z_five = not z_four\n",
    "print(z_five)\n",
    "print(type(z_five))"
   ]
  },
  {
   "cell_type": "code",
   "execution_count": 14,
   "metadata": {
    "colab": {
     "base_uri": "https://localhost:8080/"
    },
    "executionInfo": {
     "elapsed": 7,
     "status": "ok",
     "timestamp": 1692037188098,
     "user": {
      "displayName": "adonis hakemi",
      "userId": "11442548233691533531"
     },
     "user_tz": -210
    },
    "id": "_qn6NBIrOQpG",
    "outputId": "a12e257f-4a00-4115-e7c9-77ada5a56d65"
   },
   "outputs": [
    {
     "name": "stdout",
     "output_type": "stream",
     "text": [
      "Hello, Python!\n",
      "<class 'str'>\n"
     ]
    }
   ],
   "source": [
    "w = \"Hello, Python!\"\n",
    "print(w)\n",
    "print(type(w))"
   ]
  },
  {
   "cell_type": "code",
   "execution_count": 15,
   "metadata": {
    "colab": {
     "base_uri": "https://localhost:8080/"
    },
    "executionInfo": {
     "elapsed": 503,
     "status": "ok",
     "timestamp": 1692037192148,
     "user": {
      "displayName": "adonis hakemi",
      "userId": "11442548233691533531"
     },
     "user_tz": -210
    },
    "id": "PgTcFqunOUh1",
    "outputId": "b60a059f-12fe-4e89-9c87-a5184e21afab"
   },
   "outputs": [
    {
     "name": "stdout",
     "output_type": "stream",
     "text": [
      "14\n"
     ]
    }
   ],
   "source": [
    "print(len(w))"
   ]
  },
  {
   "cell_type": "code",
   "execution_count": 16,
   "metadata": {
    "colab": {
     "base_uri": "https://localhost:8080/"
    },
    "executionInfo": {
     "elapsed": 705,
     "status": "ok",
     "timestamp": 1692037195818,
     "user": {
      "displayName": "adonis hakemi",
      "userId": "11442548233691533531"
     },
     "user_tz": -210
    },
    "id": "s3V5-LkQOVCt",
    "outputId": "5a5a88f0-99c5-4d4b-8ac8-6d6c924d8ca0"
   },
   "outputs": [
    {
     "name": "stdout",
     "output_type": "stream",
     "text": [
      "<class 'str'>\n",
      "0\n"
     ]
    }
   ],
   "source": [
    "shortest_string = \"\"\n",
    "print(type(shortest_string))\n",
    "print(len(shortest_string))"
   ]
  },
  {
   "cell_type": "code",
   "execution_count": 17,
   "metadata": {
    "colab": {
     "base_uri": "https://localhost:8080/"
    },
    "executionInfo": {
     "elapsed": 6,
     "status": "ok",
     "timestamp": 1692037199241,
     "user": {
      "displayName": "adonis hakemi",
      "userId": "11442548233691533531"
     },
     "user_tz": -210
    },
    "id": "2aeKDpRpOYLe",
    "outputId": "1f5d3ac5-e794-48a5-870b-7fe5339765a6"
   },
   "outputs": [
    {
     "name": "stdout",
     "output_type": "stream",
     "text": [
      "1.12321\n",
      "<class 'str'>\n"
     ]
    }
   ],
   "source": [
    "my_number = \"1.12321\"\n",
    "print(my_number)\n",
    "print(type(my_number))"
   ]
  },
  {
   "cell_type": "code",
   "execution_count": 18,
   "metadata": {
    "colab": {
     "base_uri": "https://localhost:8080/"
    },
    "executionInfo": {
     "elapsed": 6,
     "status": "ok",
     "timestamp": 1692037204331,
     "user": {
      "displayName": "adonis hakemi",
      "userId": "11442548233691533531"
     },
     "user_tz": -210
    },
    "id": "DHAL-lGvOVOO",
    "outputId": "be33639f-623b-4997-8801-7994eaf4db75"
   },
   "outputs": [
    {
     "name": "stdout",
     "output_type": "stream",
     "text": [
      "1.12321\n",
      "<class 'float'>\n"
     ]
    }
   ],
   "source": [
    "also_my_number = float(my_number)\n",
    "print(also_my_number)\n",
    "print(type(also_my_number))"
   ]
  },
  {
   "cell_type": "code",
   "execution_count": 19,
   "metadata": {
    "colab": {
     "base_uri": "https://localhost:8080/"
    },
    "executionInfo": {
     "elapsed": 7,
     "status": "ok",
     "timestamp": 1692037208362,
     "user": {
      "displayName": "adonis hakemi",
      "userId": "11442548233691533531"
     },
     "user_tz": -210
    },
    "id": "MFEAHgvtOVR_",
    "outputId": "d92fc4e7-e0f8-44dd-ee61-36f2adb142d4"
   },
   "outputs": [
    {
     "name": "stdout",
     "output_type": "stream",
     "text": [
      "abcdef\n",
      "<class 'str'>\n"
     ]
    }
   ],
   "source": [
    "new_string = \"abc\" + \"def\"\n",
    "print(new_string)\n",
    "print(type(new_string))"
   ]
  },
  {
   "cell_type": "code",
   "execution_count": 20,
   "metadata": {
    "colab": {
     "base_uri": "https://localhost:8080/"
    },
    "executionInfo": {
     "elapsed": 7,
     "status": "ok",
     "timestamp": 1692037211239,
     "user": {
      "displayName": "adonis hakemi",
      "userId": "11442548233691533531"
     },
     "user_tz": -210
    },
    "id": "omtoOcEbOVVp",
    "outputId": "6bb4c43f-e3ee-47d1-de8e-f8f536a37a39"
   },
   "outputs": [
    {
     "name": "stdout",
     "output_type": "stream",
     "text": [
      "abcabcabc\n",
      "<class 'str'>\n"
     ]
    }
   ],
   "source": [
    "newest_string = \"abc\" * 3\n",
    "print(newest_string)\n",
    "print(type(newest_string))"
   ]
  },
  {
   "cell_type": "code",
   "execution_count": 1,
   "metadata": {
    "colab": {
     "base_uri": "https://localhost:8080/",
     "height": 175
    },
    "executionInfo": {
     "elapsed": 785,
     "status": "error",
     "timestamp": 1692037220205,
     "user": {
      "displayName": "adonis hakemi",
      "userId": "11442548233691533531"
     },
     "user_tz": -210
    },
    "id": "WmEvsb_pOVaA",
    "outputId": "3ffc831f-6620-4ce5-87d3-3e41305aa03e"
   },
   "outputs": [
    {
     "name": "stdout",
     "output_type": "stream",
     "text": [
      "1.0\n",
      "<class 'float'>\n",
      "1\n",
      "<class 'int'>\n"
     ]
    }
   ],
   "source": [
    "# Define a float\n",
    "y = 1.\n",
    "print(y)\n",
    "print(type(y))\n",
    "\n",
    "# Convert float to integer with the int function\n",
    "z = int(y)\n",
    "print(z)\n",
    "print(type(z))"
   ]
  },
  {
   "cell_type": "code",
   "execution_count": 2,
   "metadata": {
    "colab": {
     "base_uri": "https://localhost:8080/",
     "height": 366
    },
    "executionInfo": {
     "elapsed": 584,
     "status": "error",
     "timestamp": 1692037429476,
     "user": {
      "displayName": "adonis hakemi",
      "userId": "11442548233691533531"
     },
     "user_tz": -210
    },
    "id": "froRL6BMOuyO",
    "outputId": "3ec54d94-c5f1-4ad6-d845-a5334f334ec1"
   },
   "outputs": [
    {
     "name": "stdout",
     "output_type": "stream",
     "text": [
      "1\n",
      "1\n",
      "-3\n",
      "-2\n"
     ]
    }
   ],
   "source": [
    "print(int(1.2321))\n",
    "print(int(1.747))\n",
    "print(int(-3.94535))\n",
    "print(int(-2.19774))"
   ]
  },
  {
   "cell_type": "code",
   "execution_count": 3,
   "metadata": {
    "id": "HUzGMocnQpbe"
   },
   "outputs": [
    {
     "name": "stdout",
     "output_type": "stream",
     "text": [
      "3\n",
      "-3.1\n",
      "<class 'str'>\n",
      "0\n"
     ]
    }
   ],
   "source": [
    "# Uncomment and run this code to get started!\n",
    "print(3 * True)\n",
    "print(-3.1 * True)\n",
    "print(type(\"abc\" * False))\n",
    "print(len(\"abc\" * False))\n"
   ]
  },
  {
   "cell_type": "code",
   "execution_count": 4,
   "metadata": {
    "id": "BeT_J4jgQ2bv"
   },
   "outputs": [],
   "source": [
    "# TODO: Complete the function\n",
    "def get_expected_cost(beds, baths, has_basement):\n",
    "    value = 80000+beds*30000+baths*10000+has_basement*40000\n",
    "    return value"
   ]
  },
  {
   "cell_type": "code",
   "execution_count": 5,
   "metadata": {
    "id": "VdKj65tFQ3x_"
   },
   "outputs": [
    {
     "name": "stdout",
     "output_type": "stream",
     "text": [
      "0\n",
      "1\n",
      "1\n",
      "2\n",
      "3\n"
     ]
    }
   ],
   "source": [
    "print(False + False)\n",
    "print(True + False)\n",
    "print(False + True)\n",
    "print(True + True)\n",
    "print(False + True + True + True)\n"
   ]
  },
  {
   "cell_type": "code",
   "execution_count": 6,
   "metadata": {
    "id": "P346eeCpRAp3"
   },
   "outputs": [],
   "source": [
    "def cost_of_project(engraving, solid_gold):\n",
    "    cost = cost = solid_gold * (100 + 10 * len(engraving)) + (not solid_gold) * (50 + 7 * len(engraving))\n",
    "    return cost"
   ]
  },
  {
   "cell_type": "code",
   "execution_count": 7,
   "metadata": {
    "id": "LkOpyVVTREPm"
   },
   "outputs": [
    {
     "name": "stdout",
     "output_type": "stream",
     "text": [
      "240\n"
     ]
    }
   ],
   "source": [
    "project_one = cost_of_project(\"Charlie+Denver\", True)\n",
    "print(project_one)\n"
   ]
  },
  {
   "cell_type": "code",
   "execution_count": 8,
   "metadata": {
    "colab": {
     "base_uri": "https://localhost:8080/",
     "height": 193
    },
    "executionInfo": {
     "elapsed": 545,
     "status": "error",
     "timestamp": 1692037148638,
     "user": {
      "displayName": "adonis hakemi",
      "userId": "11442548233691533531"
     },
     "user_tz": -210
    },
    "id": "b5ze5VqYRIZ3",
    "outputId": "a3aa8a2d-1f9d-4723-a4b9-d455c11c6089"
   },
   "outputs": [
    {
     "name": "stdout",
     "output_type": "stream",
     "text": [
      "120\n"
     ]
    }
   ],
   "source": [
    "project_two = cost_of_project(\"08/10/2000\", False)\n",
    "print(project_two)"
   ]
  },
  {
   "cell_type": "code",
   "execution_count": null,
   "metadata": {},
   "outputs": [],
   "source": []
  }
 ],
 "metadata": {
  "colab": {
   "authorship_tag": "ABX9TyOA7VtYijHQJwXeQZXo7MWk",
   "provenance": [
    {
     "file_id": "1lpm5Fw2ubKqbtThHoVQGL8WwBoZ8E1rw",
     "timestamp": 1692035885177
    }
   ]
  },
  "kernelspec": {
   "display_name": "Python 3 (ipykernel)",
   "language": "python",
   "name": "python3"
  },
  "language_info": {
   "codemirror_mode": {
    "name": "ipython",
    "version": 3
   },
   "file_extension": ".py",
   "mimetype": "text/x-python",
   "name": "python",
   "nbconvert_exporter": "python",
   "pygments_lexer": "ipython3",
   "version": "3.11.4"
  }
 },
 "nbformat": 4,
 "nbformat_minor": 1
}
